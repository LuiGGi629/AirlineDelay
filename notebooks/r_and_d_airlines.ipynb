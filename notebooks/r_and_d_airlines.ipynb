{
 "cells": [
  {
   "cell_type": "markdown",
   "metadata": {},
   "source": [
    "# Airline Delay Prediction\n",
    "The task is about predicting airline delay. It's worth noticing that if a plane arrived earlier, we say that delay is zero (there ain't negative values). Another important assumption ==> if a flight was cancelled, delay is set on three days! Why? Because, it is extreme case when a flight was cancelled. If you're flying from time to time, you know what cancelled flight means in the middle of the trip. It is about helping manage this challenge."
   ]
  },
  {
   "cell_type": "code",
   "execution_count": 1,
   "metadata": {},
   "outputs": [],
   "source": [
    "import pandas as pd\n",
    "pd.set_option('display.max_columns', None)\n",
    "import time\n",
    "pd.set_option('display.max_rows', None)\n",
    "import numpy as np\n",
    "np.random.seed(1032019)\n",
    "from collections import defaultdict\n",
    "from ml_metrics import rmsle\n",
    "from sklearn.dummy import DummyRegressor\n",
    "from sklearn.model_selection import KFold, StratifiedKFold\n",
    "import xgboost as xgb\n",
    "import eli5\n",
    "import matplotlib.pyplot as plt\n",
    "import seaborn as sns\n",
    "import scikitplot as skplt\n",
    "%matplotlib inline"
   ]
  },
  {
   "cell_type": "markdown",
   "metadata": {},
   "source": [
    "# Train"
   ]
  },
  {
   "cell_type": "code",
   "execution_count": 2,
   "metadata": {},
   "outputs": [
    {
     "name": "stdout",
     "output_type": "stream",
     "text": [
      "Dataframe dimensions: (1077114, 28)\n"
     ]
    },
    {
     "data": {
      "text/html": [
       "<div>\n",
       "<style scoped>\n",
       "    .dataframe tbody tr th:only-of-type {\n",
       "        vertical-align: middle;\n",
       "    }\n",
       "\n",
       "    .dataframe tbody tr th {\n",
       "        vertical-align: top;\n",
       "    }\n",
       "\n",
       "    .dataframe thead th {\n",
       "        text-align: right;\n",
       "    }\n",
       "</style>\n",
       "<table border=\"1\" class=\"dataframe\">\n",
       "  <thead>\n",
       "    <tr style=\"text-align: right;\">\n",
       "      <th></th>\n",
       "      <th>year</th>\n",
       "      <th>month</th>\n",
       "      <th>actual_departure_time</th>\n",
       "      <th>day_of_month</th>\n",
       "      <th>day_of_week</th>\n",
       "      <th>scheduled_departure_time</th>\n",
       "      <th>actual_arrival_time</th>\n",
       "      <th>scheduled_arrival_time</th>\n",
       "      <th>air_time</th>\n",
       "      <th>arrival_delay</th>\n",
       "      <th>depature_delay</th>\n",
       "      <th>carrier_id</th>\n",
       "      <th>flight_number</th>\n",
       "      <th>tail_number</th>\n",
       "      <th>actual_elapsed_time</th>\n",
       "      <th>scheduled_elapsed_time</th>\n",
       "      <th>origin</th>\n",
       "      <th>destination</th>\n",
       "      <th>distance</th>\n",
       "      <th>is_cancelled</th>\n",
       "      <th>cancellation_code</th>\n",
       "      <th>carrier_delay</th>\n",
       "      <th>weather_delay</th>\n",
       "      <th>nas_delay</th>\n",
       "      <th>security_delay</th>\n",
       "      <th>late_aircraft_delay</th>\n",
       "      <th>is_diverted</th>\n",
       "      <th>target_delay</th>\n",
       "    </tr>\n",
       "  </thead>\n",
       "  <tbody>\n",
       "    <tr>\n",
       "      <th>column type</th>\n",
       "      <td>int8</td>\n",
       "      <td>int8</td>\n",
       "      <td>float32</td>\n",
       "      <td>int8</td>\n",
       "      <td>int8</td>\n",
       "      <td>float32</td>\n",
       "      <td>float32</td>\n",
       "      <td>float32</td>\n",
       "      <td>float16</td>\n",
       "      <td>float16</td>\n",
       "      <td>float16</td>\n",
       "      <td>int8</td>\n",
       "      <td>int16</td>\n",
       "      <td>int16</td>\n",
       "      <td>float16</td>\n",
       "      <td>float16</td>\n",
       "      <td>object</td>\n",
       "      <td>object</td>\n",
       "      <td>int64</td>\n",
       "      <td>bool</td>\n",
       "      <td>int8</td>\n",
       "      <td>float16</td>\n",
       "      <td>float16</td>\n",
       "      <td>float16</td>\n",
       "      <td>float16</td>\n",
       "      <td>float16</td>\n",
       "      <td>bool</td>\n",
       "      <td>float64</td>\n",
       "    </tr>\n",
       "    <tr>\n",
       "      <th>null values (nb)</th>\n",
       "      <td>0</td>\n",
       "      <td>0</td>\n",
       "      <td>20858</td>\n",
       "      <td>0</td>\n",
       "      <td>0</td>\n",
       "      <td>0</td>\n",
       "      <td>20919</td>\n",
       "      <td>0</td>\n",
       "      <td>20919</td>\n",
       "      <td>20919</td>\n",
       "      <td>20858</td>\n",
       "      <td>0</td>\n",
       "      <td>0</td>\n",
       "      <td>0</td>\n",
       "      <td>20919</td>\n",
       "      <td>26</td>\n",
       "      <td>0</td>\n",
       "      <td>0</td>\n",
       "      <td>0</td>\n",
       "      <td>0</td>\n",
       "      <td>0</td>\n",
       "      <td>272959</td>\n",
       "      <td>272959</td>\n",
       "      <td>272959</td>\n",
       "      <td>272959</td>\n",
       "      <td>272959</td>\n",
       "      <td>0</td>\n",
       "      <td>0</td>\n",
       "    </tr>\n",
       "    <tr>\n",
       "      <th>null values (%)</th>\n",
       "      <td>0</td>\n",
       "      <td>0</td>\n",
       "      <td>1.93647</td>\n",
       "      <td>0</td>\n",
       "      <td>0</td>\n",
       "      <td>0</td>\n",
       "      <td>1.94213</td>\n",
       "      <td>0</td>\n",
       "      <td>1.94213</td>\n",
       "      <td>1.94213</td>\n",
       "      <td>1.93647</td>\n",
       "      <td>0</td>\n",
       "      <td>0</td>\n",
       "      <td>0</td>\n",
       "      <td>1.94213</td>\n",
       "      <td>0.00241386</td>\n",
       "      <td>0</td>\n",
       "      <td>0</td>\n",
       "      <td>0</td>\n",
       "      <td>0</td>\n",
       "      <td>0</td>\n",
       "      <td>25.3417</td>\n",
       "      <td>25.3417</td>\n",
       "      <td>25.3417</td>\n",
       "      <td>25.3417</td>\n",
       "      <td>25.3417</td>\n",
       "      <td>0</td>\n",
       "      <td>0</td>\n",
       "    </tr>\n",
       "  </tbody>\n",
       "</table>\n",
       "</div>"
      ],
      "text/plain": [
       "                  year month actual_departure_time day_of_month day_of_week  \\\n",
       "column type       int8  int8               float32         int8        int8   \n",
       "null values (nb)     0     0                 20858            0           0   \n",
       "null values (%)      0     0               1.93647            0           0   \n",
       "\n",
       "                 scheduled_departure_time actual_arrival_time  \\\n",
       "column type                       float32             float32   \n",
       "null values (nb)                        0               20919   \n",
       "null values (%)                         0             1.94213   \n",
       "\n",
       "                 scheduled_arrival_time air_time arrival_delay depature_delay  \\\n",
       "column type                     float32  float16       float16        float16   \n",
       "null values (nb)                      0    20919         20919          20858   \n",
       "null values (%)                       0  1.94213       1.94213        1.93647   \n",
       "\n",
       "                 carrier_id flight_number tail_number actual_elapsed_time  \\\n",
       "column type            int8         int16       int16             float16   \n",
       "null values (nb)          0             0           0               20919   \n",
       "null values (%)           0             0           0             1.94213   \n",
       "\n",
       "                 scheduled_elapsed_time  origin destination distance  \\\n",
       "column type                     float16  object      object    int64   \n",
       "null values (nb)                     26       0           0        0   \n",
       "null values (%)              0.00241386       0           0        0   \n",
       "\n",
       "                 is_cancelled cancellation_code carrier_delay weather_delay  \\\n",
       "column type              bool              int8       float16       float16   \n",
       "null values (nb)            0                 0        272959        272959   \n",
       "null values (%)             0                 0       25.3417       25.3417   \n",
       "\n",
       "                 nas_delay security_delay late_aircraft_delay is_diverted  \\\n",
       "column type        float16        float16             float16        bool   \n",
       "null values (nb)    272959         272959              272959           0   \n",
       "null values (%)    25.3417        25.3417             25.3417           0   \n",
       "\n",
       "                 target_delay  \n",
       "column type           float64  \n",
       "null values (nb)            0  \n",
       "null values (%)             0  "
      ]
     },
     "execution_count": 2,
     "metadata": {},
     "output_type": "execute_result"
    }
   ],
   "source": [
    "train = pd.read_hdf('../input/train_airline_delay.h5')\n",
    "print('Dataframe dimensions:', train.shape)\n",
    "# gives some info on columns types and number of null values\n",
    "table_info = pd.DataFrame(train.dtypes).T.rename(index={0: 'column type'})\n",
    "table_info = table_info.append(pd.DataFrame(train.isnull().sum()).T.rename(\n",
    "    index={0: 'null values (nb)'}))\n",
    "table_info = table_info.append(pd.DataFrame(\n",
    "    train.isnull().sum()/train.shape[0]*100).T.rename(\n",
    "    index={0: 'null values (%)'}))\n",
    "table_info"
   ]
  },
  {
   "cell_type": "code",
   "execution_count": 3,
   "metadata": {},
   "outputs": [
    {
     "name": "stdout",
     "output_type": "stream",
     "text": [
      "<class 'pandas.core.frame.DataFrame'>\n",
      "Int64Index: 1077114 entries, 0 to 1077113\n",
      "Data columns (total 28 columns):\n",
      "year                        1077114 non-null int8\n",
      "month                       1077114 non-null int8\n",
      "actual_departure_time       1056256 non-null float32\n",
      "day_of_month                1077114 non-null int8\n",
      "day_of_week                 1077114 non-null int8\n",
      "scheduled_departure_time    1077114 non-null float32\n",
      "actual_arrival_time         1056195 non-null float32\n",
      "scheduled_arrival_time      1077114 non-null float32\n",
      "air_time                    1056195 non-null float16\n",
      "arrival_delay               1056195 non-null float16\n",
      "depature_delay              1056256 non-null float16\n",
      "carrier_id                  1077114 non-null int8\n",
      "flight_number               1077114 non-null int16\n",
      "tail_number                 1077114 non-null int16\n",
      "actual_elapsed_time         1056195 non-null float16\n",
      "scheduled_elapsed_time      1077088 non-null float16\n",
      "origin                      1077114 non-null object\n",
      "destination                 1077114 non-null object\n",
      "distance                    1077114 non-null int64\n",
      "is_cancelled                1077114 non-null bool\n",
      "cancellation_code           1077114 non-null int8\n",
      "carrier_delay               804155 non-null float16\n",
      "weather_delay               804155 non-null float16\n",
      "nas_delay                   804155 non-null float16\n",
      "security_delay              804155 non-null float16\n",
      "late_aircraft_delay         804155 non-null float16\n",
      "is_diverted                 1077114 non-null bool\n",
      "target_delay                1077114 non-null float64\n",
      "dtypes: bool(2), float16(10), float32(4), float64(1), int16(2), int64(1), int8(6), object(2)\n",
      "memory usage: 90.4+ MB\n"
     ]
    }
   ],
   "source": [
    "train.info()"
   ]
  },
  {
   "cell_type": "markdown",
   "metadata": {},
   "source": [
    "# Test"
   ]
  },
  {
   "cell_type": "code",
   "execution_count": 4,
   "metadata": {},
   "outputs": [
    {
     "name": "stdout",
     "output_type": "stream",
     "text": [
      "Dataframe dimensions: (1078310, 15)\n"
     ]
    },
    {
     "data": {
      "text/html": [
       "<div>\n",
       "<style scoped>\n",
       "    .dataframe tbody tr th:only-of-type {\n",
       "        vertical-align: middle;\n",
       "    }\n",
       "\n",
       "    .dataframe tbody tr th {\n",
       "        vertical-align: top;\n",
       "    }\n",
       "\n",
       "    .dataframe thead th {\n",
       "        text-align: right;\n",
       "    }\n",
       "</style>\n",
       "<table border=\"1\" class=\"dataframe\">\n",
       "  <thead>\n",
       "    <tr style=\"text-align: right;\">\n",
       "      <th></th>\n",
       "      <th>id</th>\n",
       "      <th>year</th>\n",
       "      <th>month</th>\n",
       "      <th>day_of_month</th>\n",
       "      <th>day_of_week</th>\n",
       "      <th>scheduled_departure_time</th>\n",
       "      <th>scheduled_arrival_time</th>\n",
       "      <th>carrier_id</th>\n",
       "      <th>flight_number</th>\n",
       "      <th>tail_number</th>\n",
       "      <th>scheduled_elapsed_time</th>\n",
       "      <th>origin</th>\n",
       "      <th>destination</th>\n",
       "      <th>distance</th>\n",
       "      <th>target_delay</th>\n",
       "    </tr>\n",
       "  </thead>\n",
       "  <tbody>\n",
       "    <tr>\n",
       "      <th>column type</th>\n",
       "      <td>int64</td>\n",
       "      <td>int64</td>\n",
       "      <td>int64</td>\n",
       "      <td>int64</td>\n",
       "      <td>int64</td>\n",
       "      <td>float64</td>\n",
       "      <td>float64</td>\n",
       "      <td>int64</td>\n",
       "      <td>int64</td>\n",
       "      <td>int64</td>\n",
       "      <td>float64</td>\n",
       "      <td>object</td>\n",
       "      <td>object</td>\n",
       "      <td>int64</td>\n",
       "      <td>float64</td>\n",
       "    </tr>\n",
       "    <tr>\n",
       "      <th>null values (nb)</th>\n",
       "      <td>0</td>\n",
       "      <td>0</td>\n",
       "      <td>0</td>\n",
       "      <td>0</td>\n",
       "      <td>0</td>\n",
       "      <td>0</td>\n",
       "      <td>0</td>\n",
       "      <td>0</td>\n",
       "      <td>0</td>\n",
       "      <td>0</td>\n",
       "      <td>30</td>\n",
       "      <td>0</td>\n",
       "      <td>0</td>\n",
       "      <td>0</td>\n",
       "      <td>1078310</td>\n",
       "    </tr>\n",
       "    <tr>\n",
       "      <th>null values (%)</th>\n",
       "      <td>0</td>\n",
       "      <td>0</td>\n",
       "      <td>0</td>\n",
       "      <td>0</td>\n",
       "      <td>0</td>\n",
       "      <td>0</td>\n",
       "      <td>0</td>\n",
       "      <td>0</td>\n",
       "      <td>0</td>\n",
       "      <td>0</td>\n",
       "      <td>0.00278213</td>\n",
       "      <td>0</td>\n",
       "      <td>0</td>\n",
       "      <td>0</td>\n",
       "      <td>100</td>\n",
       "    </tr>\n",
       "  </tbody>\n",
       "</table>\n",
       "</div>"
      ],
      "text/plain": [
       "                     id   year  month day_of_month day_of_week  \\\n",
       "column type       int64  int64  int64        int64       int64   \n",
       "null values (nb)      0      0      0            0           0   \n",
       "null values (%)       0      0      0            0           0   \n",
       "\n",
       "                 scheduled_departure_time scheduled_arrival_time carrier_id  \\\n",
       "column type                       float64                float64      int64   \n",
       "null values (nb)                        0                      0          0   \n",
       "null values (%)                         0                      0          0   \n",
       "\n",
       "                 flight_number tail_number scheduled_elapsed_time  origin  \\\n",
       "column type              int64       int64                float64  object   \n",
       "null values (nb)             0           0                     30       0   \n",
       "null values (%)              0           0             0.00278213       0   \n",
       "\n",
       "                 destination distance target_delay  \n",
       "column type           object    int64      float64  \n",
       "null values (nb)           0        0      1078310  \n",
       "null values (%)            0        0          100  "
      ]
     },
     "execution_count": 4,
     "metadata": {},
     "output_type": "execute_result"
    }
   ],
   "source": [
    "test = pd.read_csv('../input/test_airline_delay.csv')\n",
    "print('Dataframe dimensions:', test.shape)\n",
    "# gives some info on columns types and number of null values\n",
    "test_info = pd.DataFrame(test.dtypes).T.rename(index={0: 'column type'})\n",
    "test_info = test_info.append(pd.DataFrame(test.isnull().sum()).T.rename(\n",
    "    index={0: 'null values (nb)'}))\n",
    "test_info = test_info.append(pd.DataFrame(\n",
    "    test.isnull().sum()/test.shape[0]*100).T.rename(\n",
    "    index={0: 'null values (%)'}))\n",
    "test_info"
   ]
  },
  {
   "cell_type": "code",
   "execution_count": 5,
   "metadata": {},
   "outputs": [
    {
     "name": "stdout",
     "output_type": "stream",
     "text": [
      "<class 'pandas.core.frame.DataFrame'>\n",
      "RangeIndex: 1078310 entries, 0 to 1078309\n",
      "Data columns (total 15 columns):\n",
      "id                          1078310 non-null int64\n",
      "year                        1078310 non-null int64\n",
      "month                       1078310 non-null int64\n",
      "day_of_month                1078310 non-null int64\n",
      "day_of_week                 1078310 non-null int64\n",
      "scheduled_departure_time    1078310 non-null float64\n",
      "scheduled_arrival_time      1078310 non-null float64\n",
      "carrier_id                  1078310 non-null int64\n",
      "flight_number               1078310 non-null int64\n",
      "tail_number                 1078310 non-null int64\n",
      "scheduled_elapsed_time      1078280 non-null float64\n",
      "origin                      1078310 non-null object\n",
      "destination                 1078310 non-null object\n",
      "distance                    1078310 non-null int64\n",
      "target_delay                0 non-null float64\n",
      "dtypes: float64(4), int64(9), object(2)\n",
      "memory usage: 123.4+ MB\n"
     ]
    }
   ],
   "source": [
    "test.info()"
   ]
  },
  {
   "cell_type": "markdown",
   "metadata": {},
   "source": [
    "# Basic Model"
   ]
  },
  {
   "cell_type": "code",
   "execution_count": 6,
   "metadata": {},
   "outputs": [
    {
     "data": {
      "text/plain": [
       "2.348499824040506"
      ]
     },
     "execution_count": 6,
     "metadata": {},
     "output_type": "execute_result"
    }
   ],
   "source": [
    "feats = ['scheduled_arrival_time']\n",
    "X = train[feats].values\n",
    "y = train['target_delay'].values\n",
    "\n",
    "model = DummyRegressor(strategy='median')\n",
    "model.fit(X, y)\n",
    "y_pred = model.predict(X)\n",
    "\n",
    "rmsle(y, y_pred)"
   ]
  },
  {
   "cell_type": "markdown",
   "metadata": {},
   "source": [
    "I've started with the raw data, and got 2.3485 [RMSLE](https://www.slideshare.net/KhorSoonHin/rmsle-cost-function). Why **RMSLE**? Because if model predicts bigger delay i.e. 20min, but in reality it's 15min, it's a mistake but not that dangerous. It's far worse the other way round. I want to punish model when it under estimates delay."
   ]
  },
  {
   "cell_type": "markdown",
   "metadata": {},
   "source": [
    "# Exploratory Analysis"
   ]
  },
  {
   "cell_type": "code",
   "execution_count": 7,
   "metadata": {},
   "outputs": [
    {
     "data": {
      "text/plain": [
       "<Figure size 1080x360 with 0 Axes>"
      ]
     },
     "metadata": {},
     "output_type": "display_data"
    },
    {
     "data": {
      "image/png": "[encoded data removed]",
      "text/plain": [
       "<Figure size 432x288 with 1 Axes>"
      ]
     },
     "metadata": {
      "needs_background": "light"
     },
     "output_type": "display_data"
    },
    {
     "data": {
      "image/png": "[encoded data removed]",
      "text/plain": [
       "<Figure size 432x288 with 1 Axes>"
      ]
     },
     "metadata": {
      "needs_background": "light"
     },
     "output_type": "display_data"
    },
    {
     "data": {
      "image/png": "[encoded data removed]",
      "text/plain": [
       "<Figure size 432x288 with 1 Axes>"
      ]
     },
     "metadata": {
      "needs_background": "light"
     },
     "output_type": "display_data"
    },
    {
     "data": {
      "image/png": "[encoded data removed]",
      "text/plain": [
       "<Figure size 432x288 with 1 Axes>"
      ]
     },
     "metadata": {
      "needs_background": "light"
     },
     "output_type": "display_data"
    }
   ],
   "source": [
    "###############################################################################\n",
    "# Proportion of late flights per category based on all other flights\n",
    "###############################################################################\n",
    "avgLate = np.sum(train['target_delay'])/len(train['target_delay'])\n",
    "attributes = ['month', 'day_of_week', 'day_of_month', 'carrier_id']\n",
    "for i, pred in enumerate(attributes):\n",
    "    plt.figure(i, figsize=(15, 5))\n",
    "    group = train.groupby(\n",
    "        [pred], as_index=False).aggregate(np.mean)[[pred, 'target_delay']]\n",
    "    group.sort_values(by=pred, inplace=True)\n",
    "    group.plot.bar(x=pred, y='target_delay')\n",
    "    plt.axhline(y=avgLate, label='Average')\n",
    "    plt.ylabel('Percent of Flights that Arrive Late')\n",
    "    plt.title(pred)\n",
    "    plt.legend().remove()"
   ]
  },
  {
   "cell_type": "code",
   "execution_count": 8,
   "metadata": {},
   "outputs": [
    {
     "data": {
      "image/png": "[encoded data removed]",
      "text/plain": [
       "<Figure size 1440x720 with 1 Axes>"
      ]
     },
     "metadata": {
      "needs_background": "light"
     },
     "output_type": "display_data"
    }
   ],
   "source": [
    "###############################################################################\n",
    "# Mean of target_delay per tail_number. Top 36 results\n",
    "###############################################################################\n",
    "plt.figure(figsize=(20, 10))\n",
    "train.sample(frac=0.1).groupby(\n",
    "    ['tail_number']).agg(\n",
    "    np.mean)['target_delay'].sort_values(\n",
    "    ascending=False).head(36).plot(kind='barh');"
   ]
  },
  {
   "cell_type": "code",
   "execution_count": 9,
   "metadata": {},
   "outputs": [
    {
     "data": {
      "image/png": "[encoded data removed]",
      "text/plain": [
       "<Figure size 1080x360 with 1 Axes>"
      ]
     },
     "metadata": {
      "needs_background": "light"
     },
     "output_type": "display_data"
    }
   ],
   "source": [
    "plt.figure(figsize=(15, 5))\n",
    "sample_train = train.sample(frac=0.1)\n",
    "sns.scatterplot(\n",
    "    x='distance', y='target_delay', hue='carrier_id',\n",
    "    data=sample_train, alpha=0.4);"
   ]
  },
  {
   "cell_type": "markdown",
   "metadata": {},
   "source": [
    "    Reliance between distance and target_delay, carrier_id as color. Darker points more often travel long distance. Most of the planes fly around 2000 miles. We can see a bar above 4000, that's because when flight was cancelled, target_delay is infinity. To make it measurable there was assumption that target_delay is longer. I assume the bigger delay is the bigger impact it has on prediction, I will focus on that later. "
   ]
  },
  {
   "cell_type": "code",
   "execution_count": 10,
   "metadata": {},
   "outputs": [
    {
     "data": {
      "image/png": "[encoded data removed]",
      "text/plain": [
       "<Figure size 432x288 with 1 Axes>"
      ]
     },
     "metadata": {
      "needs_background": "light"
     },
     "output_type": "display_data"
    },
    {
     "data": {
      "image/png": "[encoded data removed]",
      "text/plain": [
       "<Figure size 432x288 with 1 Axes>"
      ]
     },
     "metadata": {
      "needs_background": "light"
     },
     "output_type": "display_data"
    }
   ],
   "source": [
    "depature_delay = pd.DataFrame(\n",
    "    {'depature_delay_mean': train.groupby(\n",
    "        ['carrier_id'])['depature_delay'].mean()})\n",
    "depature_delay.plot(kind='bar');\n",
    "\n",
    "\n",
    "arrival_delay = pd.DataFrame(\n",
    "    {'arrival_delay_mean': train.groupby(\n",
    "        ['carrier_id'])['arrival_delay'].mean()})\n",
    "arrival_delay.plot(kind='bar');"
   ]
  },
  {
   "cell_type": "markdown",
   "metadata": {},
   "source": [
    "    How departure and arrival delay depends on carrier. What's intresting i.e. 12 or 19 are never late, even departs earlier. On the other hand 9 always departs late and then probably hurry like crazy, by the way it's better to avoid such carrier."
   ]
  },
  {
   "cell_type": "code",
   "execution_count": 11,
   "metadata": {},
   "outputs": [],
   "source": [
    "df_all = pd.concat([train, test], sort=False)"
   ]
  },
  {
   "cell_type": "code",
   "execution_count": 12,
   "metadata": {},
   "outputs": [],
   "source": [
    "###############################################################################\n",
    "#  Categorize Features\n",
    "###############################################################################\n",
    "cat_feats = df_all.select_dtypes(include=[np.object]).columns\n",
    "for cat_feat in cat_feats:\n",
    "    df_all['{0}_cat'.format(cat_feat)] = pd.factorize(df_all[cat_feat])[0]"
   ]
  },
  {
   "cell_type": "markdown",
   "metadata": {},
   "source": [
    "# Feature Engineering\n",
    "After reading some papers related to flight delays I've thought about it and designed few aggregated features."
   ]
  },
  {
   "cell_type": "code",
   "execution_count": 13,
   "metadata": {},
   "outputs": [],
   "source": [
    "###############################################################################\n",
    "# Feature Engineering\n",
    "###############################################################################\n",
    "df_all['datetime'] = (2000 + df_all['year'].astype(\n",
    "    int)) * 365 + df_all['month'].astype(int) * 30\n",
    "df_all['datetime_full'] = df_all['datetime'].astype(\n",
    "    int) + df_all['day_of_month'].astype(int)\n",
    "df_all['tail_number_cat'] = df_all['tail_number'].factorize()[0]\n",
    "df_all['tail_dist'] = df_all['tail_number_cat'] * df_all['distance']\n",
    "df_all['delta_scheduled'] = df_all['scheduled_arrival_time'] - df_all[\n",
    "    'scheduled_departure_time']\n",
    "df_all['is_holiday'] = df_all['month'].map(lambda x: int(x in (7, 8)))\n",
    "df_all['is_winter'] = df_all['month'].map(lambda x: int(x in (12, 1, 2)))"
   ]
  },
  {
   "cell_type": "code",
   "execution_count": 14,
   "metadata": {},
   "outputs": [],
   "source": [
    "df_train = df_all[~df_all.target_delay.isnull()].copy()\n",
    "df_test = df_all[df_all.target_delay.isnull()].copy()"
   ]
  },
  {
   "cell_type": "code",
   "execution_count": 15,
   "metadata": {},
   "outputs": [],
   "source": [
    "###############################################################################\n",
    "# is_cancelled_pred prediction\n",
    "###############################################################################\n",
    "clf_feats = ['year', 'month', 'day_of_month', 'day_of_week',\n",
    "             'scheduled_departure_time', 'scheduled_arrival_time',\n",
    "             'carrier_id', 'flight_number', 'tail_number',\n",
    "             'scheduled_elapsed_time', 'origin_cat', 'destination_cat',\n",
    "             'distance']\n",
    "X_clf = df_train[clf_feats].values\n",
    "y_clf = df_train['is_cancelled'].astype('int8').values"
   ]
  },
  {
   "cell_type": "code",
   "execution_count": 16,
   "metadata": {},
   "outputs": [],
   "source": [
    "xgb_clf_params = {'max_depth': 5, 'n_estimators': 20, 'learning_rate': 0.40,\n",
    "                  'n_jobs': 8, 'random_state': 2732019}"
   ]
  },
  {
   "cell_type": "code",
   "execution_count": 17,
   "metadata": {},
   "outputs": [],
   "source": [
    "###############################################################################\n",
    "# Train\n",
    "###############################################################################\n",
    "is_cancelled_pred = {}\n",
    "cv = StratifiedKFold(n_splits=3, random_state=2732019)\n",
    "for train_idx, test_idx in cv.split(X_clf, y_clf):\n",
    "    X_clf_train, y_clf_train = X_clf[train_idx], y_clf[train_idx]\n",
    "    X_clf_test, y_clf_test = X_clf[test_idx], y_clf[test_idx]\n",
    "\n",
    "    model_clf = xgb.XGBClassifier(**xgb_clf_params)\n",
    "    model_clf.fit(X_clf_train, y_clf_train)\n",
    "    y_pred = model_clf.predict_proba(X_clf_test)[:, 1]\n",
    "\n",
    "    is_cancelled_pred.update(dict(zip(list(test_idx), list(y_pred))))\n",
    "\n",
    "df_train['is_cancelled_pred'] = df_train.index.map(is_cancelled_pred)"
   ]
  },
  {
   "cell_type": "code",
   "execution_count": 18,
   "metadata": {},
   "outputs": [
    {
     "data": {
      "image/png": "[encoded data removed]",
      "text/plain": [
       "<Figure size 432x288 with 1 Axes>"
      ]
     },
     "metadata": {
      "needs_background": "light"
     },
     "output_type": "display_data"
    }
   ],
   "source": [
    "skplt.estimators.plot_learning_curve(\n",
    "    model_clf, X_clf, y_clf, title='Learning Curve XGBClassifier', cv=3, scoring='precision');"
   ]
  },
  {
   "cell_type": "code",
   "execution_count": 19,
   "metadata": {},
   "outputs": [
    {
     "data": {
      "image/png": "[encoded data removed]",
      "text/plain": [
       "<Figure size 432x288 with 1 Axes>"
      ]
     },
     "metadata": {
      "needs_background": "light"
     },
     "output_type": "display_data"
    }
   ],
   "source": [
    "skplt.estimators.plot_learning_curve(\n",
    "    model_clf, X_clf, y_clf, title='Learning Curve XGBClassifier', cv=3, scoring='recall');"
   ]
  },
  {
   "cell_type": "code",
   "execution_count": 20,
   "metadata": {},
   "outputs": [
    {
     "data": {
      "image/png": "[encoded data removed]",
      "text/plain": [
       "<Figure size 576x288 with 1 Axes>"
      ]
     },
     "metadata": {
      "needs_background": "light"
     },
     "output_type": "display_data"
    }
   ],
   "source": [
    "###############################################################################\n",
    "# Sum of is_cancelled per tail_number. Top 5 results\n",
    "###############################################################################\n",
    "plt.figure(figsize=(8, 4))\n",
    "train[train['is_cancelled'] == 1].groupby(\n",
    "    ['tail_number']).agg(np.sum)['is_cancelled'].sort_values(\n",
    "    ascending=False).head(5).plot(kind='barh')\n",
    "plt.title('Sum of is_cancelled per tail_number. Top 5 results');"
   ]
  },
  {
   "cell_type": "code",
   "execution_count": 21,
   "metadata": {},
   "outputs": [],
   "source": [
    "###############################################################################\n",
    "# Test\n",
    "###############################################################################\n",
    "X_clf_train, y_clf_train = df_train[clf_feats].values, df_train['is_cancelled'].values\n",
    "X_clf_test = df_test[clf_feats].values\n",
    "\n",
    "model = xgb.XGBClassifier(**xgb_clf_params)\n",
    "model.fit(X_clf_train, y_clf_train)\n",
    "df_test['is_cancelled_pred'] = model.predict_proba(X_clf_test)[:, 1]"
   ]
  },
  {
   "cell_type": "markdown",
   "metadata": {},
   "source": [
    "# Feature Selection"
   ]
  },
  {
   "cell_type": "code",
   "execution_count": 22,
   "metadata": {},
   "outputs": [],
   "source": [
    "feats = test.select_dtypes(include=[np.number, np.bool]).columns\n",
    "black_list = ['id', 'air_time', 'cancellation_code', 'actual_departure_time',\n",
    "              'security_delay', 'arrival_delay', 'actual_arrival_time',\n",
    "              'carrier_delay', 'actual_elapsed_time', 'target_delay',\n",
    "              'late_aircraft_delay', 'depature_delay', 'weather_delay',\n",
    "              'nas_delay']\n",
    "feats = [feat for feat in feats if feat not in black_list]\n",
    "feats += ['is_cancelled_pred', 'origin_cat', 'destination_cat',\n",
    "          'datetime_full', 'delta_scheduled', 'is_holiday', 'is_winter',\n",
    "          'tail_dist']\n",
    "\n",
    "X_train = df_train[feats].values\n",
    "y_train = df_train['target_delay'].values\n",
    "y_train_log = np.log1p(y_train)\n",
    "\n",
    "cv = KFold(n_splits=2, random_state=2732019, shuffle=False)"
   ]
  },
  {
   "cell_type": "code",
   "execution_count": 23,
   "metadata": {},
   "outputs": [
    {
     "name": "stdout",
     "output_type": "stream",
     "text": [
      "Selected features:  ['year', 'month', 'day_of_month', 'day_of_week', 'scheduled_departure_time', 'scheduled_arrival_time', 'carrier_id', 'flight_number', 'tail_number', 'scheduled_elapsed_time', 'distance', 'is_cancelled_pred', 'origin_cat', 'destination_cat', 'datetime_full', 'delta_scheduled', 'is_holiday', 'is_winter', 'tail_dist']\n"
     ]
    }
   ],
   "source": [
    "print(\"Selected features: \", feats)"
   ]
  },
  {
   "cell_type": "code",
   "execution_count": 24,
   "metadata": {},
   "outputs": [
    {
     "name": "stdout",
     "output_type": "stream",
     "text": [
      "fold:  1\n",
      "xgb RMSLE:  1.6093067828215146\n",
      "fold:  2\n",
      "xgb RMSLE:  1.6093760699385877\n",
      "xgb_RMSLE 1.6093414263800512 3.464355853655121e-05\n"
     ]
    }
   ],
   "source": [
    "model = xgb.XGBRegressor(**xgb_clf_params)\n",
    "\n",
    "scores = {\n",
    "    'xgb_RMSLE': []\n",
    "}\n",
    "\n",
    "\n",
    "def perform_scoring(m, y_true, y_log_pred):\n",
    "    y_pred = np.expm1(y_log_pred)\n",
    "\n",
    "    score = rmsle(y_train[test_idx], y_pred)\n",
    "    print(m + \" RMSLE: \", score)\n",
    "    scores[m + '_RMSLE'].append(score)\n",
    "\n",
    "\n",
    "fold = 0\n",
    "for train_idx, test_idx in cv.split(X_train):\n",
    "    fold += 1\n",
    "    print(\"fold: \", fold)\n",
    "\n",
    "    # XGB\n",
    "    model.fit(X_train[train_idx], y_train_log[train_idx])\n",
    "    y_log_pred = model.predict(X_train[test_idx])\n",
    "    perform_scoring('xgb', y_train_log[test_idx], y_log_pred)\n",
    "\n",
    "\n",
    "for s in scores:\n",
    "    print(s, np.mean(scores[s]), np.std(scores[s]))"
   ]
  },
  {
   "cell_type": "code",
   "execution_count": 25,
   "metadata": {},
   "outputs": [],
   "source": [
    "def my_rmsle(model, X_train, y_train_log):\n",
    "    y_pred = model.predict(X_train)\n",
    "    return rmsle(y_train_log, y_pred)"
   ]
  },
  {
   "cell_type": "code",
   "execution_count": 26,
   "metadata": {},
   "outputs": [
    {
     "data": {
      "image/png": "[encoded data removed]",
      "text/plain": [
       "<Figure size 432x288 with 1 Axes>"
      ]
     },
     "metadata": {
      "needs_background": "light"
     },
     "output_type": "display_data"
    }
   ],
   "source": [
    "skplt.estimators.plot_learning_curve(\n",
    "    model, X_train, y_train_log, cv=2, scoring=my_rmsle, title='Learning Curve XGBRegressor');"
   ]
  },
  {
   "cell_type": "markdown",
   "metadata": {},
   "source": [
    "# Submission preparation"
   ]
  },
  {
   "cell_type": "code",
   "execution_count": 27,
   "metadata": {},
   "outputs": [],
   "source": [
    "model.fit(X_train, y_train_log)\n",
    "X_test = df_test[feats].values\n",
    "y_test_pred_log = model.predict(X_test)\n",
    "y_pred = np.expm1(y_test_pred_log)\n",
    "df_test['id'] = df_test['id'].astype('int')\n",
    "df_test['target_delay'] = y_pred\n",
    "df_test[['id', 'target_delay']].to_csv(\n",
    "    '../output/' + time.strftime(\"%Y%m%d_%H%M%S\") + '.csv', index=False)"
   ]
  },
  {
   "cell_type": "markdown",
   "metadata": {},
   "source": [
    "# Feature importances"
   ]
  },
  {
   "cell_type": "code",
   "execution_count": 28,
   "metadata": {},
   "outputs": [
    {
     "data": {
      "image/png": "[encoded data removed]",
      "text/plain": [
       "<Figure size 720x360 with 1 Axes>"
      ]
     },
     "metadata": {
      "needs_background": "light"
     },
     "output_type": "display_data"
    }
   ],
   "source": [
    "def draw_feature_importances(model, features):\n",
    "    importances = model.feature_importances_\n",
    "    indices = np.argsort(importances)[::-1]\n",
    "\n",
    "    plt.figure(figsize=(10, 5))\n",
    "    plt.title(\"Feature importances\")\n",
    "    plt.bar(range(X_train.shape[1]), model.feature_importances_[indices],\n",
    "           color=\"b\", align=\"center\")\n",
    "    plt.xticks(range(X_train.shape[1]), [ features[x] for x in indices])\n",
    "    plt.xticks(rotation=90)\n",
    "    plt.xlim([-1, X_train.shape[1]])\n",
    "    plt.show()\n",
    "\n",
    "draw_feature_importances(model, feats)"
   ]
  },
  {
   "cell_type": "markdown",
   "metadata": {},
   "source": [
    "# eli5 XGBRegressor gain"
   ]
  },
  {
   "cell_type": "code",
   "execution_count": 29,
   "metadata": {},
   "outputs": [
    {
     "data": {
      "text/html": [
       "\n",
       "    <style>\n",
       "    table.eli5-weights tr:hover {\n",
       "        filter: brightness(85%);\n",
       "    }\n",
       "</style>\n",
       "\n",
       "\n",
       "\n",
       "    \n",
       "\n",
       "    \n",
       "\n",
       "    \n",
       "\n",
       "    \n",
       "\n",
       "    \n",
       "\n",
       "    \n",
       "\n",
       "\n",
       "    \n",
       "\n",
       "    \n",
       "\n",
       "    \n",
       "\n",
       "    \n",
       "\n",
       "    \n",
       "\n",
       "    \n",
       "\n",
       "\n",
       "    \n",
       "\n",
       "    \n",
       "\n",
       "    \n",
       "\n",
       "    \n",
       "\n",
       "    \n",
       "        <table class=\"eli5-weights eli5-feature-importances\" style=\"border-collapse: collapse; border: none; margin-top: 0em; table-layout: auto;\">\n",
       "    <thead>\n",
       "    <tr style=\"border: none;\">\n",
       "        <th style=\"padding: 0 1em 0 0.5em; text-align: right; border: none;\">Weight</th>\n",
       "        <th style=\"padding: 0 0.5em 0 0.5em; text-align: left; border: none;\">Feature</th>\n",
       "    </tr>\n",
       "    </thead>\n",
       "    <tbody>\n",
       "    \n",
       "        <tr style=\"background-color: hsl(120, 100.00%, 80.00%); border: none;\">\n",
       "            <td style=\"padding: 0 1em 0 0.5em; text-align: right; border: none;\">\n",
       "                0.9360\n",
       "                \n",
       "            </td>\n",
       "            <td style=\"padding: 0 0.5em 0 0.5em; text-align: left; border: none;\">\n",
       "                is_cancelled_pred\n",
       "            </td>\n",
       "        </tr>\n",
       "    \n",
       "        <tr style=\"background-color: hsl(120, 100.00%, 99.29%); border: none;\">\n",
       "            <td style=\"padding: 0 1em 0 0.5em; text-align: right; border: none;\">\n",
       "                0.0080\n",
       "                \n",
       "            </td>\n",
       "            <td style=\"padding: 0 0.5em 0 0.5em; text-align: left; border: none;\">\n",
       "                is_winter\n",
       "            </td>\n",
       "        </tr>\n",
       "    \n",
       "        <tr style=\"background-color: hsl(120, 100.00%, 99.51%); border: none;\">\n",
       "            <td style=\"padding: 0 1em 0 0.5em; text-align: right; border: none;\">\n",
       "                0.0047\n",
       "                \n",
       "            </td>\n",
       "            <td style=\"padding: 0 0.5em 0 0.5em; text-align: left; border: none;\">\n",
       "                destination_cat\n",
       "            </td>\n",
       "        </tr>\n",
       "    \n",
       "        <tr style=\"background-color: hsl(120, 100.00%, 99.53%); border: none;\">\n",
       "            <td style=\"padding: 0 1em 0 0.5em; text-align: right; border: none;\">\n",
       "                0.0044\n",
       "                \n",
       "            </td>\n",
       "            <td style=\"padding: 0 0.5em 0 0.5em; text-align: left; border: none;\">\n",
       "                datetime_full\n",
       "            </td>\n",
       "        </tr>\n",
       "    \n",
       "        <tr style=\"background-color: hsl(120, 100.00%, 99.55%); border: none;\">\n",
       "            <td style=\"padding: 0 1em 0 0.5em; text-align: right; border: none;\">\n",
       "                0.0041\n",
       "                \n",
       "            </td>\n",
       "            <td style=\"padding: 0 0.5em 0 0.5em; text-align: left; border: none;\">\n",
       "                day_of_month\n",
       "            </td>\n",
       "        </tr>\n",
       "    \n",
       "        <tr style=\"background-color: hsl(120, 100.00%, 99.56%); border: none;\">\n",
       "            <td style=\"padding: 0 1em 0 0.5em; text-align: right; border: none;\">\n",
       "                0.0040\n",
       "                \n",
       "            </td>\n",
       "            <td style=\"padding: 0 0.5em 0 0.5em; text-align: left; border: none;\">\n",
       "                tail_number\n",
       "            </td>\n",
       "        </tr>\n",
       "    \n",
       "        <tr style=\"background-color: hsl(120, 100.00%, 99.57%); border: none;\">\n",
       "            <td style=\"padding: 0 1em 0 0.5em; text-align: right; border: none;\">\n",
       "                0.0039\n",
       "                \n",
       "            </td>\n",
       "            <td style=\"padding: 0 0.5em 0 0.5em; text-align: left; border: none;\">\n",
       "                flight_number\n",
       "            </td>\n",
       "        </tr>\n",
       "    \n",
       "        <tr style=\"background-color: hsl(120, 100.00%, 99.58%); border: none;\">\n",
       "            <td style=\"padding: 0 1em 0 0.5em; text-align: right; border: none;\">\n",
       "                0.0037\n",
       "                \n",
       "            </td>\n",
       "            <td style=\"padding: 0 0.5em 0 0.5em; text-align: left; border: none;\">\n",
       "                distance\n",
       "            </td>\n",
       "        </tr>\n",
       "    \n",
       "        <tr style=\"background-color: hsl(120, 100.00%, 99.59%); border: none;\">\n",
       "            <td style=\"padding: 0 1em 0 0.5em; text-align: right; border: none;\">\n",
       "                0.0037\n",
       "                \n",
       "            </td>\n",
       "            <td style=\"padding: 0 0.5em 0 0.5em; text-align: left; border: none;\">\n",
       "                origin_cat\n",
       "            </td>\n",
       "        </tr>\n",
       "    \n",
       "        <tr style=\"background-color: hsl(120, 100.00%, 99.59%); border: none;\">\n",
       "            <td style=\"padding: 0 1em 0 0.5em; text-align: right; border: none;\">\n",
       "                0.0036\n",
       "                \n",
       "            </td>\n",
       "            <td style=\"padding: 0 0.5em 0 0.5em; text-align: left; border: none;\">\n",
       "                scheduled_arrival_time\n",
       "            </td>\n",
       "        </tr>\n",
       "    \n",
       "        <tr style=\"background-color: hsl(120, 100.00%, 99.60%); border: none;\">\n",
       "            <td style=\"padding: 0 1em 0 0.5em; text-align: right; border: none;\">\n",
       "                0.0035\n",
       "                \n",
       "            </td>\n",
       "            <td style=\"padding: 0 0.5em 0 0.5em; text-align: left; border: none;\">\n",
       "                delta_scheduled\n",
       "            </td>\n",
       "        </tr>\n",
       "    \n",
       "        <tr style=\"background-color: hsl(120, 100.00%, 99.60%); border: none;\">\n",
       "            <td style=\"padding: 0 1em 0 0.5em; text-align: right; border: none;\">\n",
       "                0.0034\n",
       "                \n",
       "            </td>\n",
       "            <td style=\"padding: 0 0.5em 0 0.5em; text-align: left; border: none;\">\n",
       "                tail_dist\n",
       "            </td>\n",
       "        </tr>\n",
       "    \n",
       "        <tr style=\"background-color: hsl(120, 100.00%, 99.61%); border: none;\">\n",
       "            <td style=\"padding: 0 1em 0 0.5em; text-align: right; border: none;\">\n",
       "                0.0034\n",
       "                \n",
       "            </td>\n",
       "            <td style=\"padding: 0 0.5em 0 0.5em; text-align: left; border: none;\">\n",
       "                scheduled_departure_time\n",
       "            </td>\n",
       "        </tr>\n",
       "    \n",
       "        <tr style=\"background-color: hsl(120, 100.00%, 99.61%); border: none;\">\n",
       "            <td style=\"padding: 0 1em 0 0.5em; text-align: right; border: none;\">\n",
       "                0.0034\n",
       "                \n",
       "            </td>\n",
       "            <td style=\"padding: 0 0.5em 0 0.5em; text-align: left; border: none;\">\n",
       "                day_of_week\n",
       "            </td>\n",
       "        </tr>\n",
       "    \n",
       "        <tr style=\"background-color: hsl(120, 100.00%, 99.62%); border: none;\">\n",
       "            <td style=\"padding: 0 1em 0 0.5em; text-align: right; border: none;\">\n",
       "                0.0033\n",
       "                \n",
       "            </td>\n",
       "            <td style=\"padding: 0 0.5em 0 0.5em; text-align: left; border: none;\">\n",
       "                month\n",
       "            </td>\n",
       "        </tr>\n",
       "    \n",
       "        <tr style=\"background-color: hsl(120, 100.00%, 99.62%); border: none;\">\n",
       "            <td style=\"padding: 0 1em 0 0.5em; text-align: right; border: none;\">\n",
       "                0.0032\n",
       "                \n",
       "            </td>\n",
       "            <td style=\"padding: 0 0.5em 0 0.5em; text-align: left; border: none;\">\n",
       "                scheduled_elapsed_time\n",
       "            </td>\n",
       "        </tr>\n",
       "    \n",
       "        <tr style=\"background-color: hsl(120, 100.00%, 99.68%); border: none;\">\n",
       "            <td style=\"padding: 0 1em 0 0.5em; text-align: right; border: none;\">\n",
       "                0.0025\n",
       "                \n",
       "            </td>\n",
       "            <td style=\"padding: 0 0.5em 0 0.5em; text-align: left; border: none;\">\n",
       "                carrier_id\n",
       "            </td>\n",
       "        </tr>\n",
       "    \n",
       "        <tr style=\"background-color: hsl(120, 100.00%, 99.79%); border: none;\">\n",
       "            <td style=\"padding: 0 1em 0 0.5em; text-align: right; border: none;\">\n",
       "                0.0014\n",
       "                \n",
       "            </td>\n",
       "            <td style=\"padding: 0 0.5em 0 0.5em; text-align: left; border: none;\">\n",
       "                year\n",
       "            </td>\n",
       "        </tr>\n",
       "    \n",
       "        <tr style=\"background-color: hsl(0, 100.00%, 100.00%); border: none;\">\n",
       "            <td style=\"padding: 0 1em 0 0.5em; text-align: right; border: none;\">\n",
       "                0\n",
       "                \n",
       "            </td>\n",
       "            <td style=\"padding: 0 0.5em 0 0.5em; text-align: left; border: none;\">\n",
       "                is_holiday\n",
       "            </td>\n",
       "        </tr>\n",
       "    \n",
       "    \n",
       "    </tbody>\n",
       "</table>\n",
       "    \n",
       "\n",
       "    \n",
       "\n",
       "\n",
       "    \n",
       "\n",
       "    \n",
       "\n",
       "    \n",
       "\n",
       "    \n",
       "\n",
       "    \n",
       "\n",
       "    \n",
       "\n",
       "\n",
       "\n"
      ],
      "text/plain": [
       "<IPython.core.display.HTML object>"
      ]
     },
     "execution_count": 29,
     "metadata": {},
     "output_type": "execute_result"
    }
   ],
   "source": [
    "model = xgb.XGBRegressor(**xgb_clf_params)\n",
    "model.fit(X_train, y_train)\n",
    "eli5.show_weights(model.get_booster(), feature_names=feats, top=50)"
   ]
  },
  {
   "cell_type": "markdown",
   "metadata": {},
   "source": [
    "# cover"
   ]
  },
  {
   "cell_type": "code",
   "execution_count": 30,
   "metadata": {},
   "outputs": [
    {
     "data": {
      "text/html": [
       "\n",
       "    <style>\n",
       "    table.eli5-weights tr:hover {\n",
       "        filter: brightness(85%);\n",
       "    }\n",
       "</style>\n",
       "\n",
       "\n",
       "\n",
       "    \n",
       "\n",
       "    \n",
       "\n",
       "    \n",
       "\n",
       "    \n",
       "\n",
       "    \n",
       "\n",
       "    \n",
       "\n",
       "\n",
       "    \n",
       "\n",
       "    \n",
       "\n",
       "    \n",
       "\n",
       "    \n",
       "\n",
       "    \n",
       "\n",
       "    \n",
       "\n",
       "\n",
       "    \n",
       "\n",
       "    \n",
       "\n",
       "    \n",
       "\n",
       "    \n",
       "\n",
       "    \n",
       "        <table class=\"eli5-weights eli5-feature-importances\" style=\"border-collapse: collapse; border: none; margin-top: 0em; table-layout: auto;\">\n",
       "    <thead>\n",
       "    <tr style=\"border: none;\">\n",
       "        <th style=\"padding: 0 1em 0 0.5em; text-align: right; border: none;\">Weight</th>\n",
       "        <th style=\"padding: 0 0.5em 0 0.5em; text-align: left; border: none;\">Feature</th>\n",
       "    </tr>\n",
       "    </thead>\n",
       "    <tbody>\n",
       "    \n",
       "        <tr style=\"background-color: hsl(120, 100.00%, 80.00%); border: none;\">\n",
       "            <td style=\"padding: 0 1em 0 0.5em; text-align: right; border: none;\">\n",
       "                0.1361\n",
       "                \n",
       "            </td>\n",
       "            <td style=\"padding: 0 0.5em 0 0.5em; text-align: left; border: none;\">\n",
       "                is_winter\n",
       "            </td>\n",
       "        </tr>\n",
       "    \n",
       "        <tr style=\"background-color: hsl(120, 100.00%, 82.23%); border: none;\">\n",
       "            <td style=\"padding: 0 1em 0 0.5em; text-align: right; border: none;\">\n",
       "                0.1150\n",
       "                \n",
       "            </td>\n",
       "            <td style=\"padding: 0 0.5em 0 0.5em; text-align: left; border: none;\">\n",
       "                month\n",
       "            </td>\n",
       "        </tr>\n",
       "    \n",
       "        <tr style=\"background-color: hsl(120, 100.00%, 84.21%); border: none;\">\n",
       "            <td style=\"padding: 0 1em 0 0.5em; text-align: right; border: none;\">\n",
       "                0.0971\n",
       "                \n",
       "            </td>\n",
       "            <td style=\"padding: 0 0.5em 0 0.5em; text-align: left; border: none;\">\n",
       "                distance\n",
       "            </td>\n",
       "        </tr>\n",
       "    \n",
       "        <tr style=\"background-color: hsl(120, 100.00%, 84.35%); border: none;\">\n",
       "            <td style=\"padding: 0 1em 0 0.5em; text-align: right; border: none;\">\n",
       "                0.0958\n",
       "                \n",
       "            </td>\n",
       "            <td style=\"padding: 0 0.5em 0 0.5em; text-align: left; border: none;\">\n",
       "                datetime_full\n",
       "            </td>\n",
       "        </tr>\n",
       "    \n",
       "        <tr style=\"background-color: hsl(120, 100.00%, 85.08%); border: none;\">\n",
       "            <td style=\"padding: 0 1em 0 0.5em; text-align: right; border: none;\">\n",
       "                0.0896\n",
       "                \n",
       "            </td>\n",
       "            <td style=\"padding: 0 0.5em 0 0.5em; text-align: left; border: none;\">\n",
       "                is_cancelled_pred\n",
       "            </td>\n",
       "        </tr>\n",
       "    \n",
       "        <tr style=\"background-color: hsl(120, 100.00%, 85.19%); border: none;\">\n",
       "            <td style=\"padding: 0 1em 0 0.5em; text-align: right; border: none;\">\n",
       "                0.0886\n",
       "                \n",
       "            </td>\n",
       "            <td style=\"padding: 0 0.5em 0 0.5em; text-align: left; border: none;\">\n",
       "                carrier_id\n",
       "            </td>\n",
       "        </tr>\n",
       "    \n",
       "        <tr style=\"background-color: hsl(120, 100.00%, 86.23%); border: none;\">\n",
       "            <td style=\"padding: 0 1em 0 0.5em; text-align: right; border: none;\">\n",
       "                0.0799\n",
       "                \n",
       "            </td>\n",
       "            <td style=\"padding: 0 0.5em 0 0.5em; text-align: left; border: none;\">\n",
       "                destination_cat\n",
       "            </td>\n",
       "        </tr>\n",
       "    \n",
       "        <tr style=\"background-color: hsl(120, 100.00%, 89.28%); border: none;\">\n",
       "            <td style=\"padding: 0 1em 0 0.5em; text-align: right; border: none;\">\n",
       "                0.0559\n",
       "                \n",
       "            </td>\n",
       "            <td style=\"padding: 0 0.5em 0 0.5em; text-align: left; border: none;\">\n",
       "                origin_cat\n",
       "            </td>\n",
       "        </tr>\n",
       "    \n",
       "        <tr style=\"background-color: hsl(120, 100.00%, 89.40%); border: none;\">\n",
       "            <td style=\"padding: 0 1em 0 0.5em; text-align: right; border: none;\">\n",
       "                0.0549\n",
       "                \n",
       "            </td>\n",
       "            <td style=\"padding: 0 0.5em 0 0.5em; text-align: left; border: none;\">\n",
       "                scheduled_elapsed_time\n",
       "            </td>\n",
       "        </tr>\n",
       "    \n",
       "        <tr style=\"background-color: hsl(120, 100.00%, 90.26%); border: none;\">\n",
       "            <td style=\"padding: 0 1em 0 0.5em; text-align: right; border: none;\">\n",
       "                0.0487\n",
       "                \n",
       "            </td>\n",
       "            <td style=\"padding: 0 0.5em 0 0.5em; text-align: left; border: none;\">\n",
       "                delta_scheduled\n",
       "            </td>\n",
       "        </tr>\n",
       "    \n",
       "        <tr style=\"background-color: hsl(120, 100.00%, 90.90%); border: none;\">\n",
       "            <td style=\"padding: 0 1em 0 0.5em; text-align: right; border: none;\">\n",
       "                0.0442\n",
       "                \n",
       "            </td>\n",
       "            <td style=\"padding: 0 0.5em 0 0.5em; text-align: left; border: none;\">\n",
       "                day_of_week\n",
       "            </td>\n",
       "        </tr>\n",
       "    \n",
       "        <tr style=\"background-color: hsl(120, 100.00%, 91.45%); border: none;\">\n",
       "            <td style=\"padding: 0 1em 0 0.5em; text-align: right; border: none;\">\n",
       "                0.0404\n",
       "                \n",
       "            </td>\n",
       "            <td style=\"padding: 0 0.5em 0 0.5em; text-align: left; border: none;\">\n",
       "                scheduled_departure_time\n",
       "            </td>\n",
       "        </tr>\n",
       "    \n",
       "        <tr style=\"background-color: hsl(120, 100.00%, 93.85%); border: none;\">\n",
       "            <td style=\"padding: 0 1em 0 0.5em; text-align: right; border: none;\">\n",
       "                0.0252\n",
       "                \n",
       "            </td>\n",
       "            <td style=\"padding: 0 0.5em 0 0.5em; text-align: left; border: none;\">\n",
       "                scheduled_arrival_time\n",
       "            </td>\n",
       "        </tr>\n",
       "    \n",
       "        <tr style=\"background-color: hsl(120, 100.00%, 94.86%); border: none;\">\n",
       "            <td style=\"padding: 0 1em 0 0.5em; text-align: right; border: none;\">\n",
       "                0.0196\n",
       "                \n",
       "            </td>\n",
       "            <td style=\"padding: 0 0.5em 0 0.5em; text-align: left; border: none;\">\n",
       "                day_of_month\n",
       "            </td>\n",
       "        </tr>\n",
       "    \n",
       "        <tr style=\"background-color: hsl(120, 100.00%, 98.31%); border: none;\">\n",
       "            <td style=\"padding: 0 1em 0 0.5em; text-align: right; border: none;\">\n",
       "                0.0040\n",
       "                \n",
       "            </td>\n",
       "            <td style=\"padding: 0 0.5em 0 0.5em; text-align: left; border: none;\">\n",
       "                tail_dist\n",
       "            </td>\n",
       "        </tr>\n",
       "    \n",
       "        <tr style=\"background-color: hsl(120, 100.00%, 98.47%); border: none;\">\n",
       "            <td style=\"padding: 0 1em 0 0.5em; text-align: right; border: none;\">\n",
       "                0.0035\n",
       "                \n",
       "            </td>\n",
       "            <td style=\"padding: 0 0.5em 0 0.5em; text-align: left; border: none;\">\n",
       "                tail_number\n",
       "            </td>\n",
       "        </tr>\n",
       "    \n",
       "        <tr style=\"background-color: hsl(120, 100.00%, 99.10%); border: none;\">\n",
       "            <td style=\"padding: 0 1em 0 0.5em; text-align: right; border: none;\">\n",
       "                0.0016\n",
       "                \n",
       "            </td>\n",
       "            <td style=\"padding: 0 0.5em 0 0.5em; text-align: left; border: none;\">\n",
       "                flight_number\n",
       "            </td>\n",
       "        </tr>\n",
       "    \n",
       "        <tr style=\"background-color: hsl(120, 100.00%, 100.00%); border: none;\">\n",
       "            <td style=\"padding: 0 1em 0 0.5em; text-align: right; border: none;\">\n",
       "                0.0000\n",
       "                \n",
       "            </td>\n",
       "            <td style=\"padding: 0 0.5em 0 0.5em; text-align: left; border: none;\">\n",
       "                year\n",
       "            </td>\n",
       "        </tr>\n",
       "    \n",
       "        <tr style=\"background-color: hsl(0, 100.00%, 100.00%); border: none;\">\n",
       "            <td style=\"padding: 0 1em 0 0.5em; text-align: right; border: none;\">\n",
       "                0\n",
       "                \n",
       "            </td>\n",
       "            <td style=\"padding: 0 0.5em 0 0.5em; text-align: left; border: none;\">\n",
       "                is_holiday\n",
       "            </td>\n",
       "        </tr>\n",
       "    \n",
       "    \n",
       "    </tbody>\n",
       "</table>\n",
       "    \n",
       "\n",
       "    \n",
       "\n",
       "\n",
       "    \n",
       "\n",
       "    \n",
       "\n",
       "    \n",
       "\n",
       "    \n",
       "\n",
       "    \n",
       "\n",
       "    \n",
       "\n",
       "\n",
       "\n"
      ],
      "text/plain": [
       "Explanation(estimator='<xgboost.core.Booster object at 0x7fafe4586d30>', description='\\nXGBoost feature importances; values are numbers 0 <= x <= 1;\\nall values sum to 1.\\n', error=None, method='feature importances', is_regression=None, targets=None, feature_importances=FeatureImportances(importances=[FeatureWeight(feature='is_winter', weight=0.13610756, std=None, value=None), FeatureWeight(feature='month', weight=0.11495661, std=None, value=None), FeatureWeight(feature='distance', weight=0.09707761, std=None, value=None), FeatureWeight(feature='datetime_full', weight=0.095839374, std=None, value=None), FeatureWeight(feature='is_cancelled_pred', weight=0.0895578, std=None, value=None), FeatureWeight(feature='carrier_id', weight=0.088625774, std=None, value=None), FeatureWeight(feature='destination_cat', weight=0.07985971, std=None, value=None), FeatureWeight(feature='origin_cat', weight=0.05587931, std=None, value=None), FeatureWeight(feature='scheduled_elapsed_time', weight=0.05494275, std=None, value=None), FeatureWeight(feature='delta_scheduled', weight=0.048661977, std=None, value=None), FeatureWeight(feature='day_of_week', weight=0.044180937, std=None, value=None), FeatureWeight(feature='scheduled_departure_time', weight=0.0404171, std=None, value=None), FeatureWeight(feature='scheduled_arrival_time', weight=0.025242269, std=None, value=None), FeatureWeight(feature='day_of_month', weight=0.019563276, std=None, value=None), FeatureWeight(feature='tail_dist', weight=0.0039891326, std=None, value=None), FeatureWeight(feature='tail_number', weight=0.0034734055, std=None, value=None), FeatureWeight(feature='flight_number', weight=0.0016245429, std=None, value=None), FeatureWeight(feature='year', weight=8.96393e-07, std=None, value=None), FeatureWeight(feature='is_holiday', weight=0.0, std=None, value=None)], remaining=0), decision_tree=None, highlight_spaces=None, transition_features=None)"
      ]
     },
     "execution_count": 30,
     "metadata": {},
     "output_type": "execute_result"
    }
   ],
   "source": [
    "eli5.explain_weights_xgboost(\n",
    "    model.get_booster(), feature_names=feats, top=50, importance_type='cover')"
   ]
  },
  {
   "cell_type": "markdown",
   "metadata": {},
   "source": [
    "# weight"
   ]
  },
  {
   "cell_type": "code",
   "execution_count": 31,
   "metadata": {},
   "outputs": [
    {
     "data": {
      "text/html": [
       "\n",
       "    <style>\n",
       "    table.eli5-weights tr:hover {\n",
       "        filter: brightness(85%);\n",
       "    }\n",
       "</style>\n",
       "\n",
       "\n",
       "\n",
       "    \n",
       "\n",
       "    \n",
       "\n",
       "    \n",
       "\n",
       "    \n",
       "\n",
       "    \n",
       "\n",
       "    \n",
       "\n",
       "\n",
       "    \n",
       "\n",
       "    \n",
       "\n",
       "    \n",
       "\n",
       "    \n",
       "\n",
       "    \n",
       "\n",
       "    \n",
       "\n",
       "\n",
       "    \n",
       "\n",
       "    \n",
       "\n",
       "    \n",
       "\n",
       "    \n",
       "\n",
       "    \n",
       "        <table class=\"eli5-weights eli5-feature-importances\" style=\"border-collapse: collapse; border: none; margin-top: 0em; table-layout: auto;\">\n",
       "    <thead>\n",
       "    <tr style=\"border: none;\">\n",
       "        <th style=\"padding: 0 1em 0 0.5em; text-align: right; border: none;\">Weight</th>\n",
       "        <th style=\"padding: 0 0.5em 0 0.5em; text-align: left; border: none;\">Feature</th>\n",
       "    </tr>\n",
       "    </thead>\n",
       "    <tbody>\n",
       "    \n",
       "        <tr style=\"background-color: hsl(120, 100.00%, 80.00%); border: none;\">\n",
       "            <td style=\"padding: 0 1em 0 0.5em; text-align: right; border: none;\">\n",
       "                0.3110\n",
       "                \n",
       "            </td>\n",
       "            <td style=\"padding: 0 0.5em 0 0.5em; text-align: left; border: none;\">\n",
       "                is_cancelled_pred\n",
       "            </td>\n",
       "        </tr>\n",
       "    \n",
       "        <tr style=\"background-color: hsl(120, 100.00%, 89.38%); border: none;\">\n",
       "            <td style=\"padding: 0 1em 0 0.5em; text-align: right; border: none;\">\n",
       "                0.1260\n",
       "                \n",
       "            </td>\n",
       "            <td style=\"padding: 0 0.5em 0 0.5em; text-align: left; border: none;\">\n",
       "                datetime_full\n",
       "            </td>\n",
       "        </tr>\n",
       "    \n",
       "        <tr style=\"background-color: hsl(120, 100.00%, 93.60%); border: none;\">\n",
       "            <td style=\"padding: 0 1em 0 0.5em; text-align: right; border: none;\">\n",
       "                0.0610\n",
       "                \n",
       "            </td>\n",
       "            <td style=\"padding: 0 0.5em 0 0.5em; text-align: left; border: none;\">\n",
       "                day_of_month\n",
       "            </td>\n",
       "        </tr>\n",
       "    \n",
       "        <tr style=\"background-color: hsl(120, 100.00%, 93.75%); border: none;\">\n",
       "            <td style=\"padding: 0 1em 0 0.5em; text-align: right; border: none;\">\n",
       "                0.0591\n",
       "                \n",
       "            </td>\n",
       "            <td style=\"padding: 0 0.5em 0 0.5em; text-align: left; border: none;\">\n",
       "                flight_number\n",
       "            </td>\n",
       "        </tr>\n",
       "    \n",
       "        <tr style=\"background-color: hsl(120, 100.00%, 93.90%); border: none;\">\n",
       "            <td style=\"padding: 0 1em 0 0.5em; text-align: right; border: none;\">\n",
       "                0.0571\n",
       "                \n",
       "            </td>\n",
       "            <td style=\"padding: 0 0.5em 0 0.5em; text-align: left; border: none;\">\n",
       "                scheduled_elapsed_time\n",
       "            </td>\n",
       "        </tr>\n",
       "    \n",
       "        <tr style=\"background-color: hsl(120, 100.00%, 94.04%); border: none;\">\n",
       "            <td style=\"padding: 0 1em 0 0.5em; text-align: right; border: none;\">\n",
       "                0.0551\n",
       "                \n",
       "            </td>\n",
       "            <td style=\"padding: 0 0.5em 0 0.5em; text-align: left; border: none;\">\n",
       "                origin_cat\n",
       "            </td>\n",
       "        </tr>\n",
       "    \n",
       "        <tr style=\"background-color: hsl(120, 100.00%, 94.04%); border: none;\">\n",
       "            <td style=\"padding: 0 1em 0 0.5em; text-align: right; border: none;\">\n",
       "                0.0551\n",
       "                \n",
       "            </td>\n",
       "            <td style=\"padding: 0 0.5em 0 0.5em; text-align: left; border: none;\">\n",
       "                tail_number\n",
       "            </td>\n",
       "        </tr>\n",
       "    \n",
       "        <tr style=\"background-color: hsl(120, 100.00%, 95.13%); border: none;\">\n",
       "            <td style=\"padding: 0 1em 0 0.5em; text-align: right; border: none;\">\n",
       "                0.0413\n",
       "                \n",
       "            </td>\n",
       "            <td style=\"padding: 0 0.5em 0 0.5em; text-align: left; border: none;\">\n",
       "                scheduled_arrival_time\n",
       "            </td>\n",
       "        </tr>\n",
       "    \n",
       "        <tr style=\"background-color: hsl(120, 100.00%, 95.29%); border: none;\">\n",
       "            <td style=\"padding: 0 1em 0 0.5em; text-align: right; border: none;\">\n",
       "                0.0394\n",
       "                \n",
       "            </td>\n",
       "            <td style=\"padding: 0 0.5em 0 0.5em; text-align: left; border: none;\">\n",
       "                scheduled_departure_time\n",
       "            </td>\n",
       "        </tr>\n",
       "    \n",
       "        <tr style=\"background-color: hsl(120, 100.00%, 95.46%); border: none;\">\n",
       "            <td style=\"padding: 0 1em 0 0.5em; text-align: right; border: none;\">\n",
       "                0.0374\n",
       "                \n",
       "            </td>\n",
       "            <td style=\"padding: 0 0.5em 0 0.5em; text-align: left; border: none;\">\n",
       "                distance\n",
       "            </td>\n",
       "        </tr>\n",
       "    \n",
       "        <tr style=\"background-color: hsl(120, 100.00%, 95.63%); border: none;\">\n",
       "            <td style=\"padding: 0 1em 0 0.5em; text-align: right; border: none;\">\n",
       "                0.0354\n",
       "                \n",
       "            </td>\n",
       "            <td style=\"padding: 0 0.5em 0 0.5em; text-align: left; border: none;\">\n",
       "                destination_cat\n",
       "            </td>\n",
       "        </tr>\n",
       "    \n",
       "        <tr style=\"background-color: hsl(120, 100.00%, 96.52%); border: none;\">\n",
       "            <td style=\"padding: 0 1em 0 0.5em; text-align: right; border: none;\">\n",
       "                0.0256\n",
       "                \n",
       "            </td>\n",
       "            <td style=\"padding: 0 0.5em 0 0.5em; text-align: left; border: none;\">\n",
       "                month\n",
       "            </td>\n",
       "        </tr>\n",
       "    \n",
       "        <tr style=\"background-color: hsl(120, 100.00%, 96.52%); border: none;\">\n",
       "            <td style=\"padding: 0 1em 0 0.5em; text-align: right; border: none;\">\n",
       "                0.0256\n",
       "                \n",
       "            </td>\n",
       "            <td style=\"padding: 0 0.5em 0 0.5em; text-align: left; border: none;\">\n",
       "                day_of_week\n",
       "            </td>\n",
       "        </tr>\n",
       "    \n",
       "        <tr style=\"background-color: hsl(120, 100.00%, 96.52%); border: none;\">\n",
       "            <td style=\"padding: 0 1em 0 0.5em; text-align: right; border: none;\">\n",
       "                0.0256\n",
       "                \n",
       "            </td>\n",
       "            <td style=\"padding: 0 0.5em 0 0.5em; text-align: left; border: none;\">\n",
       "                tail_dist\n",
       "            </td>\n",
       "        </tr>\n",
       "    \n",
       "        <tr style=\"background-color: hsl(120, 100.00%, 97.10%); border: none;\">\n",
       "            <td style=\"padding: 0 1em 0 0.5em; text-align: right; border: none;\">\n",
       "                0.0197\n",
       "                \n",
       "            </td>\n",
       "            <td style=\"padding: 0 0.5em 0 0.5em; text-align: left; border: none;\">\n",
       "                delta_scheduled\n",
       "            </td>\n",
       "        </tr>\n",
       "    \n",
       "        <tr style=\"background-color: hsl(120, 100.00%, 97.97%); border: none;\">\n",
       "            <td style=\"padding: 0 1em 0 0.5em; text-align: right; border: none;\">\n",
       "                0.0118\n",
       "                \n",
       "            </td>\n",
       "            <td style=\"padding: 0 0.5em 0 0.5em; text-align: left; border: none;\">\n",
       "                year\n",
       "            </td>\n",
       "        </tr>\n",
       "    \n",
       "        <tr style=\"background-color: hsl(120, 100.00%, 98.22%); border: none;\">\n",
       "            <td style=\"padding: 0 1em 0 0.5em; text-align: right; border: none;\">\n",
       "                0.0098\n",
       "                \n",
       "            </td>\n",
       "            <td style=\"padding: 0 0.5em 0 0.5em; text-align: left; border: none;\">\n",
       "                carrier_id\n",
       "            </td>\n",
       "        </tr>\n",
       "    \n",
       "        <tr style=\"background-color: hsl(120, 100.00%, 99.06%); border: none;\">\n",
       "            <td style=\"padding: 0 1em 0 0.5em; text-align: right; border: none;\">\n",
       "                0.0039\n",
       "                \n",
       "            </td>\n",
       "            <td style=\"padding: 0 0.5em 0 0.5em; text-align: left; border: none;\">\n",
       "                is_winter\n",
       "            </td>\n",
       "        </tr>\n",
       "    \n",
       "        <tr style=\"background-color: hsl(0, 100.00%, 100.00%); border: none;\">\n",
       "            <td style=\"padding: 0 1em 0 0.5em; text-align: right; border: none;\">\n",
       "                0\n",
       "                \n",
       "            </td>\n",
       "            <td style=\"padding: 0 0.5em 0 0.5em; text-align: left; border: none;\">\n",
       "                is_holiday\n",
       "            </td>\n",
       "        </tr>\n",
       "    \n",
       "    \n",
       "    </tbody>\n",
       "</table>\n",
       "    \n",
       "\n",
       "    \n",
       "\n",
       "\n",
       "    \n",
       "\n",
       "    \n",
       "\n",
       "    \n",
       "\n",
       "    \n",
       "\n",
       "    \n",
       "\n",
       "    \n",
       "\n",
       "\n",
       "\n"
      ],
      "text/plain": [
       "Explanation(estimator='<xgboost.core.Booster object at 0x7fafe4586d30>', description='\\nXGBoost feature importances; values are numbers 0 <= x <= 1;\\nall values sum to 1.\\n', error=None, method='feature importances', is_regression=None, targets=None, feature_importances=FeatureImportances(importances=[FeatureWeight(feature='is_cancelled_pred', weight=0.31102362, std=None, value=None), FeatureWeight(feature='datetime_full', weight=0.12598425, std=None, value=None), FeatureWeight(feature='day_of_month', weight=0.061023623, std=None, value=None), FeatureWeight(feature='flight_number', weight=0.05905512, std=None, value=None), FeatureWeight(feature='scheduled_elapsed_time', weight=0.057086613, std=None, value=None), FeatureWeight(feature='origin_cat', weight=0.05511811, std=None, value=None), FeatureWeight(feature='tail_number', weight=0.05511811, std=None, value=None), FeatureWeight(feature='scheduled_arrival_time', weight=0.04133858, std=None, value=None), FeatureWeight(feature='scheduled_departure_time', weight=0.03937008, std=None, value=None), FeatureWeight(feature='distance', weight=0.037401576, std=None, value=None), FeatureWeight(feature='destination_cat', weight=0.035433073, std=None, value=None), FeatureWeight(feature='month', weight=0.025590552, std=None, value=None), FeatureWeight(feature='day_of_week', weight=0.025590552, std=None, value=None), FeatureWeight(feature='tail_dist', weight=0.025590552, std=None, value=None), FeatureWeight(feature='delta_scheduled', weight=0.01968504, std=None, value=None), FeatureWeight(feature='year', weight=0.011811024, std=None, value=None), FeatureWeight(feature='carrier_id', weight=0.00984252, std=None, value=None), FeatureWeight(feature='is_winter', weight=0.003937008, std=None, value=None), FeatureWeight(feature='is_holiday', weight=0.0, std=None, value=None)], remaining=0), decision_tree=None, highlight_spaces=None, transition_features=None)"
      ]
     },
     "execution_count": 31,
     "metadata": {},
     "output_type": "execute_result"
    }
   ],
   "source": [
    "eli5.explain_weights_xgboost(\n",
    "    model.get_booster(), feature_names=feats, top=50, importance_type='weight')"
   ]
  },
  {
   "cell_type": "code",
   "execution_count": 32,
   "metadata": {},
   "outputs": [],
   "source": [
    "###############################################################################\n",
    "# Tuned Model\n",
    "###############################################################################\n",
    "xgb_params = {\n",
    "    'n_jobs': 4,\n",
    "    'max_depth': 14,\n",
    "    'n_estimators': 120,\n",
    "    'learning_rate': 0.1,\n",
    "    'min_child_weight': 8,\n",
    "    'random_state': 2632019\n",
    "}"
   ]
  },
  {
   "cell_type": "code",
   "execution_count": 33,
   "metadata": {},
   "outputs": [
    {
     "name": "stdout",
     "output_type": "stream",
     "text": [
      "fold:  1\n",
      "xgb RMSLE:  1.5543549843681244\n",
      "fold:  2\n",
      "xgb RMSLE:  1.5532505639818577\n",
      "xgb_RMSLE 1.553802774174991 0.0005522101931333401\n"
     ]
    }
   ],
   "source": [
    "model_tuned = xgb.XGBRegressor(**xgb_params)\n",
    "\n",
    "scores = {\n",
    "    'xgb_RMSLE': []\n",
    "}\n",
    "\n",
    "\n",
    "def perform_scoring(m, y_true, y_log_pred):\n",
    "    y_pred = np.expm1(y_log_pred)\n",
    "\n",
    "    score = rmsle(y_train[test_idx], y_pred)\n",
    "    print(m + \" RMSLE: \", score)\n",
    "    scores[m + '_RMSLE'].append(score)\n",
    "\n",
    "\n",
    "fold = 0\n",
    "for train_idx, test_idx in cv.split(X_train):\n",
    "    fold += 1\n",
    "    print(\"fold: \", fold)\n",
    "\n",
    "    # XGB\n",
    "    model_tuned.fit(X_train[train_idx], y_train_log[train_idx])\n",
    "    y_log_pred = model_tuned.predict(X_train[test_idx])\n",
    "    perform_scoring('xgb', y_train_log[test_idx], y_log_pred)\n",
    "\n",
    "\n",
    "for s in scores:\n",
    "    print(s, np.mean(scores[s]), np.std(scores[s]))"
   ]
  },
  {
   "cell_type": "code",
   "execution_count": 34,
   "metadata": {},
   "outputs": [
    {
     "data": {
      "image/png": "[encoded data removed]",
      "text/plain": [
       "<Figure size 432x288 with 1 Axes>"
      ]
     },
     "metadata": {
      "needs_background": "light"
     },
     "output_type": "display_data"
    }
   ],
   "source": [
    "skplt.estimators.plot_learning_curve(\n",
    "    model_tuned, X_train, y_train_log, cv=2, scoring=my_rmsle, title='Learning Curve ==> Tuned XGBRegressor');"
   ]
  },
  {
   "cell_type": "code",
   "execution_count": 35,
   "metadata": {},
   "outputs": [
    {
     "data": {
      "image/png": "[encoded data removed]",
      "text/plain": [
       "<Figure size 720x360 with 1 Axes>"
      ]
     },
     "metadata": {
      "needs_background": "light"
     },
     "output_type": "display_data"
    }
   ],
   "source": [
    "draw_feature_importances(model_tuned, feats)"
   ]
  }
 ],
 "metadata": {
  "kernelspec": {
   "display_name": "Python 3",
   "language": "python",
   "name": "python3"
  },
  "language_info": {
   "codemirror_mode": {
    "name": "ipython",
    "version": 3
   },
   "file_extension": ".py",
   "mimetype": "text/x-python",
   "name": "python",
   "nbconvert_exporter": "python",
   "pygments_lexer": "ipython3",
   "version": "3.6.8"
  }
 },
 "nbformat": 4,
 "nbformat_minor": 2
}
